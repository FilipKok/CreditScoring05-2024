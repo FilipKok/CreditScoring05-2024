{
 "cells": [
  {
   "cell_type": "markdown",
   "id": "d6f838c1-cdbc-4958-aa7d-b74c32794dd5",
   "metadata": {},
   "source": [
    "# Wczytanie danych"
   ]
  },
  {
   "cell_type": "code",
   "execution_count": 1,
   "id": "d2179a6c-0707-4b39-86c1-c06e4cc385ae",
   "metadata": {},
   "outputs": [],
   "source": [
    "# Podstawowe biblioteki\n",
    "import numpy as np\n",
    "import pandas as pd\n",
    "import matplotlib.pyplot as plt\n",
    "import seaborn as sns\n",
    "import warnings\n",
    "warnings.filterwarnings('ignore')\n",
    "import os"
   ]
  },
  {
   "cell_type": "code",
   "execution_count": 2,
   "id": "e91ef474-4bfe-49ac-b8cc-87a87ebd66fd",
   "metadata": {},
   "outputs": [],
   "source": [
    "df_train = pd.read_csv(\"df_train.csv\")\n",
    "df_test = pd.read_csv(\"df_test.csv\")\n",
    "df_all = pd.read_csv(\"df_all.csv\")"
   ]
  },
  {
   "cell_type": "code",
   "execution_count": 3,
   "id": "188336ff-d0c9-4bca-b92a-56a17ad1219b",
   "metadata": {},
   "outputs": [],
   "source": [
    "# Usunięcie 2 zmiennych, które okazały się nieistotne podczas modelowania w  Statistice\n",
    "columns_to_drop = ['NAME_INCOME_TYPE', 'PREVIOUS_APPLICATION_DAYS_DECISION_MIN']\n",
    "\n",
    "df_train = df_train.drop(columns_to_drop, axis=1)\n",
    "df_test = df_test.drop(columns_to_drop, axis=1)\n",
    "df_all = df_all.drop(columns_to_drop, axis=1)"
   ]
  },
  {
   "cell_type": "markdown",
   "id": "27b94891-1022-41dc-9471-12eee38ca074",
   "metadata": {},
   "source": [
    "Pozostało 19 zmiennych objasniających"
   ]
  },
  {
   "cell_type": "code",
   "execution_count": 4,
   "id": "f9090266-31a2-4091-bf56-8dfca330d15e",
   "metadata": {},
   "outputs": [
    {
     "data": {
      "text/plain": [
       "(452394, 20)"
      ]
     },
     "execution_count": 4,
     "metadata": {},
     "output_type": "execute_result"
    }
   ],
   "source": [
    "df_train.shape"
   ]
  },
  {
   "cell_type": "code",
   "execution_count": 5,
   "id": "c97ba207-19bf-41ed-9a72-a23fc4ba55a4",
   "metadata": {},
   "outputs": [
    {
     "data": {
      "text/plain": [
       "(61503, 20)"
      ]
     },
     "execution_count": 5,
     "metadata": {},
     "output_type": "execute_result"
    }
   ],
   "source": [
    "df_test.shape"
   ]
  },
  {
   "cell_type": "code",
   "execution_count": 6,
   "id": "1556a480-b563-448a-8a1c-984715aafff4",
   "metadata": {},
   "outputs": [
    {
     "data": {
      "text/plain": [
       "(513897, 21)"
      ]
     },
     "execution_count": 6,
     "metadata": {},
     "output_type": "execute_result"
    }
   ],
   "source": [
    "df_all.shape"
   ]
  },
  {
   "cell_type": "markdown",
   "id": "1ca6d774-d4ec-4c72-a91a-4c3aee1fb136",
   "metadata": {},
   "source": [
    "# Budowa Modeli"
   ]
  },
  {
   "cell_type": "markdown",
   "id": "c281f394-caac-4998-9cb5-c2ff1baa015a",
   "metadata": {},
   "source": [
    "## 1. Model LightGBM"
   ]
  },
  {
   "cell_type": "code",
   "execution_count": 7,
   "id": "0fd8075c-d097-43a8-a9cf-7a601234a901",
   "metadata": {},
   "outputs": [],
   "source": [
    "# pip install lightgbm --no-cache-dir"
   ]
  },
  {
   "cell_type": "markdown",
   "id": "063c10b0-cab6-4fae-8d7e-dff5b80e2db0",
   "metadata": {},
   "source": [
    "### Przygotowanie danych"
   ]
  },
  {
   "cell_type": "code",
   "execution_count": 8,
   "id": "96d0ea17-0a72-4bd2-9181-af7d36fe4def",
   "metadata": {},
   "outputs": [],
   "source": [
    "import lightgbm as lgb\n",
    "\n",
    "# Rozdzielenie cech i etykiet\n",
    "X_train = df_train.iloc[:, 1:]  # wszystkie kolumny poza pierwszą\n",
    "y_train = df_train.iloc[:, 0]   # pierwsza kolumna\n",
    "X_test = df_test.iloc[:, 1:]\n",
    "y_test = df_test.iloc[:, 0]"
   ]
  },
  {
   "cell_type": "code",
   "execution_count": 9,
   "id": "919d2124-2ace-49de-b44f-51a718d6350b",
   "metadata": {},
   "outputs": [
    {
     "data": {
      "text/plain": [
       "(452394, 19)"
      ]
     },
     "execution_count": 9,
     "metadata": {},
     "output_type": "execute_result"
    }
   ],
   "source": [
    "X_train.shape"
   ]
  },
  {
   "cell_type": "code",
   "execution_count": 10,
   "id": "500c9718-8318-414a-90fa-ddc705afa1e8",
   "metadata": {},
   "outputs": [
    {
     "data": {
      "text/html": [
       "<div>\n",
       "<style scoped>\n",
       "    .dataframe tbody tr th:only-of-type {\n",
       "        vertical-align: middle;\n",
       "    }\n",
       "\n",
       "    .dataframe tbody tr th {\n",
       "        vertical-align: top;\n",
       "    }\n",
       "\n",
       "    .dataframe thead th {\n",
       "        text-align: right;\n",
       "    }\n",
       "</style>\n",
       "<table border=\"1\" class=\"dataframe\">\n",
       "  <thead>\n",
       "    <tr style=\"text-align: right;\">\n",
       "      <th></th>\n",
       "      <th>AMT_GOODS_PRICE</th>\n",
       "      <th>NAME_EDUCATION_TYPE</th>\n",
       "      <th>DAYS_BIRTH</th>\n",
       "      <th>DAYS_REGISTRATION</th>\n",
       "      <th>DAYS_ID_PUBLISH</th>\n",
       "      <th>OCCUPATION_TYPE</th>\n",
       "      <th>REGION_RATING_CLIENT</th>\n",
       "      <th>ORGANIZATION_TYPE</th>\n",
       "      <th>EXT_SOURCE_2</th>\n",
       "      <th>EXT_SOURCE_3</th>\n",
       "      <th>DAYS_LAST_PHONE_CHANGE</th>\n",
       "      <th>FLAG_DOCUMENT_3</th>\n",
       "      <th>BUREAU_DAYS_CREDIT_MEAN</th>\n",
       "      <th>BUREAU_DAYS_CREDIT_MAX</th>\n",
       "      <th>BUREAU_DAYS_CREDIT_ENDDATE_MEAN</th>\n",
       "      <th>PREVIOUS_APPLICATION_NAME_CONTRACT_STATUS_REFUSED</th>\n",
       "      <th>POS_CASH_APP_COUNT</th>\n",
       "      <th>INSTALLMENTS_PAYMENTS_IS_DELAYED_MEAN</th>\n",
       "      <th>INSTALLMENTS_PAYMENTS_PERCENTAGE_DELAYED</th>\n",
       "    </tr>\n",
       "  </thead>\n",
       "  <tbody>\n",
       "    <tr>\n",
       "      <th>0</th>\n",
       "      <td>112500.0</td>\n",
       "      <td>Secondary / secondary special</td>\n",
       "      <td>-14669</td>\n",
       "      <td>-6152.0</td>\n",
       "      <td>-4731</td>\n",
       "      <td>Security staff</td>\n",
       "      <td>2</td>\n",
       "      <td>Business Entity Type 3</td>\n",
       "      <td>0.180849</td>\n",
       "      <td>0.681706</td>\n",
       "      <td>-228</td>\n",
       "      <td>1</td>\n",
       "      <td>-1317.0</td>\n",
       "      <td>-151.0</td>\n",
       "      <td>325.333333</td>\n",
       "      <td>0.0</td>\n",
       "      <td>3.0</td>\n",
       "      <td>0.041667</td>\n",
       "      <td>10.0</td>\n",
       "    </tr>\n",
       "  </tbody>\n",
       "</table>\n",
       "</div>"
      ],
      "text/plain": [
       "   AMT_GOODS_PRICE            NAME_EDUCATION_TYPE  DAYS_BIRTH  \\\n",
       "0         112500.0  Secondary / secondary special      -14669   \n",
       "\n",
       "   DAYS_REGISTRATION  DAYS_ID_PUBLISH OCCUPATION_TYPE  REGION_RATING_CLIENT  \\\n",
       "0            -6152.0            -4731  Security staff                     2   \n",
       "\n",
       "        ORGANIZATION_TYPE  EXT_SOURCE_2  EXT_SOURCE_3  DAYS_LAST_PHONE_CHANGE  \\\n",
       "0  Business Entity Type 3      0.180849      0.681706                    -228   \n",
       "\n",
       "   FLAG_DOCUMENT_3  BUREAU_DAYS_CREDIT_MEAN  BUREAU_DAYS_CREDIT_MAX  \\\n",
       "0                1                  -1317.0                  -151.0   \n",
       "\n",
       "   BUREAU_DAYS_CREDIT_ENDDATE_MEAN  \\\n",
       "0                       325.333333   \n",
       "\n",
       "   PREVIOUS_APPLICATION_NAME_CONTRACT_STATUS_REFUSED  POS_CASH_APP_COUNT  \\\n",
       "0                                                0.0                 3.0   \n",
       "\n",
       "   INSTALLMENTS_PAYMENTS_IS_DELAYED_MEAN  \\\n",
       "0                               0.041667   \n",
       "\n",
       "   INSTALLMENTS_PAYMENTS_PERCENTAGE_DELAYED  \n",
       "0                                      10.0  "
      ]
     },
     "execution_count": 10,
     "metadata": {},
     "output_type": "execute_result"
    }
   ],
   "source": [
    "X_train.head(1)"
   ]
  },
  {
   "cell_type": "code",
   "execution_count": 11,
   "id": "01aa51ec-7c7e-4d95-bad5-964392813ca8",
   "metadata": {},
   "outputs": [
    {
     "data": {
      "text/plain": [
       "(452394,)"
      ]
     },
     "execution_count": 11,
     "metadata": {},
     "output_type": "execute_result"
    }
   ],
   "source": [
    "y_train.shape"
   ]
  },
  {
   "cell_type": "markdown",
   "id": "f1e72756-e653-4454-b933-7c561fb502a7",
   "metadata": {},
   "source": [
    "### Konfiguracja zbiorów danych LightGBM"
   ]
  },
  {
   "cell_type": "markdown",
   "id": "9cb75fc5-e6b9-440c-b80c-65505ae0c9f7",
   "metadata": {},
   "source": [
    "LightGBM korzysta z własnego formatu danych, zwanego Dataset, który optymalizuje przechowywanie i prędkość obliczeń. Przy tworzeniu tego obiektu, można także określić, które kolumny są kategoryczne."
   ]
  },
  {
   "cell_type": "code",
   "execution_count": 12,
   "id": "ab089900-e3b1-432d-99c9-1166416be12b",
   "metadata": {},
   "outputs": [],
   "source": [
    "categorical_features = ['NAME_EDUCATION_TYPE', 'OCCUPATION_TYPE', 'ORGANIZATION_TYPE']  # Kolumny kategoryczne\n",
    "\n",
    "# Konwersja zmiennych kategorycznych na typ 'category', potrzebne do trenowania modelu\n",
    "for col in categorical_features:\n",
    "    X_train[col] = X_train[col].astype('category')\n",
    "    X_test[col] = X_test[col].astype('category')\n",
    "\n",
    "train_data = lgb.Dataset(X_train, label=y_train, categorical_feature=categorical_features)\n",
    "test_data = lgb.Dataset(X_test, label=y_test, categorical_feature=categorical_features)"
   ]
  },
  {
   "cell_type": "markdown",
   "id": "fbf18af2-de64-4206-8dd6-a4ac4dbf4094",
   "metadata": {},
   "source": [
    "### Definiowanie parametrów modelu i trenowanie"
   ]
  },
  {
   "cell_type": "markdown",
   "id": "09084c76-8394-472c-a567-d0404c96e038",
   "metadata": {},
   "source": [
    "Definiowanie parametrów modelu pozwala dostosować działanie algorytmu. Można zmieniać takie parametry jak szybkość uczenia, głębokość drzewa, metryka oceny itp."
   ]
  },
  {
   "cell_type": "code",
   "execution_count": 13,
   "id": "a2672d38-acb1-4567-88c0-993acfb286cc",
   "metadata": {},
   "outputs": [],
   "source": [
    "params = {\n",
    "    'objective': 'binary',  # typ zadania, 'binary' dla klasyfikacji binarnej\n",
    "    'metric': 'auc',\n",
    "    'learning_rate': 0.1,  # szybkość uczenia\n",
    "    'num_leaves': 50,  # maksymalna liczba liści w drzewie\n",
    "    'verbose': -1  # minimalizuje wyjście komunikatów, użyteczne przy dużych zestawach danych\n",
    "}"
   ]
  },
  {
   "cell_type": "code",
   "execution_count": 14,
   "id": "453b8ad6-44f7-458a-811d-20f73a60f311",
   "metadata": {},
   "outputs": [
    {
     "name": "stdout",
     "output_type": "stream",
     "text": [
      "[1]\tvalid_0's auc: 0.709465\n",
      "[2]\tvalid_0's auc: 0.720546\n",
      "[3]\tvalid_0's auc: 0.723072\n",
      "[4]\tvalid_0's auc: 0.724262\n",
      "[5]\tvalid_0's auc: 0.726877\n",
      "[6]\tvalid_0's auc: 0.729001\n",
      "[7]\tvalid_0's auc: 0.729939\n",
      "[8]\tvalid_0's auc: 0.73097\n",
      "[9]\tvalid_0's auc: 0.731931\n",
      "[10]\tvalid_0's auc: 0.732853\n",
      "[11]\tvalid_0's auc: 0.733673\n",
      "[12]\tvalid_0's auc: 0.734954\n",
      "[13]\tvalid_0's auc: 0.736384\n",
      "[14]\tvalid_0's auc: 0.737049\n",
      "[15]\tvalid_0's auc: 0.73818\n",
      "[16]\tvalid_0's auc: 0.738965\n",
      "[17]\tvalid_0's auc: 0.739468\n",
      "[18]\tvalid_0's auc: 0.740194\n",
      "[19]\tvalid_0's auc: 0.740774\n",
      "[20]\tvalid_0's auc: 0.741388\n",
      "[21]\tvalid_0's auc: 0.742219\n",
      "[22]\tvalid_0's auc: 0.743072\n",
      "[23]\tvalid_0's auc: 0.743661\n",
      "[24]\tvalid_0's auc: 0.744244\n",
      "[25]\tvalid_0's auc: 0.744803\n",
      "[26]\tvalid_0's auc: 0.745467\n",
      "[27]\tvalid_0's auc: 0.745818\n",
      "[28]\tvalid_0's auc: 0.746368\n",
      "[29]\tvalid_0's auc: 0.746541\n",
      "[30]\tvalid_0's auc: 0.747119\n",
      "[31]\tvalid_0's auc: 0.747327\n",
      "[32]\tvalid_0's auc: 0.747529\n",
      "[33]\tvalid_0's auc: 0.747821\n",
      "[34]\tvalid_0's auc: 0.748024\n",
      "[35]\tvalid_0's auc: 0.748236\n",
      "[36]\tvalid_0's auc: 0.748547\n",
      "[37]\tvalid_0's auc: 0.748814\n",
      "[38]\tvalid_0's auc: 0.748993\n",
      "[39]\tvalid_0's auc: 0.749079\n",
      "[40]\tvalid_0's auc: 0.749236\n",
      "[41]\tvalid_0's auc: 0.749385\n",
      "[42]\tvalid_0's auc: 0.749454\n",
      "[43]\tvalid_0's auc: 0.74948\n",
      "[44]\tvalid_0's auc: 0.749558\n",
      "[45]\tvalid_0's auc: 0.749999\n",
      "[46]\tvalid_0's auc: 0.750011\n",
      "[47]\tvalid_0's auc: 0.750228\n",
      "[48]\tvalid_0's auc: 0.750274\n",
      "[49]\tvalid_0's auc: 0.750312\n",
      "[50]\tvalid_0's auc: 0.750509\n",
      "[51]\tvalid_0's auc: 0.75038\n",
      "[52]\tvalid_0's auc: 0.750599\n",
      "[53]\tvalid_0's auc: 0.750702\n",
      "[54]\tvalid_0's auc: 0.750735\n",
      "[55]\tvalid_0's auc: 0.750581\n",
      "[56]\tvalid_0's auc: 0.750459\n",
      "[57]\tvalid_0's auc: 0.750671\n",
      "[58]\tvalid_0's auc: 0.750637\n",
      "[59]\tvalid_0's auc: 0.750687\n",
      "[60]\tvalid_0's auc: 0.750854\n",
      "[61]\tvalid_0's auc: 0.750781\n",
      "[62]\tvalid_0's auc: 0.750845\n",
      "[63]\tvalid_0's auc: 0.750823\n",
      "[64]\tvalid_0's auc: 0.750812\n",
      "[65]\tvalid_0's auc: 0.750964\n",
      "[66]\tvalid_0's auc: 0.75095\n",
      "[67]\tvalid_0's auc: 0.750973\n",
      "[68]\tvalid_0's auc: 0.751082\n",
      "[69]\tvalid_0's auc: 0.751094\n",
      "[70]\tvalid_0's auc: 0.751176\n",
      "[71]\tvalid_0's auc: 0.75122\n",
      "[72]\tvalid_0's auc: 0.751167\n",
      "[73]\tvalid_0's auc: 0.751245\n",
      "[74]\tvalid_0's auc: 0.751326\n",
      "[75]\tvalid_0's auc: 0.751215\n",
      "[76]\tvalid_0's auc: 0.751278\n",
      "[77]\tvalid_0's auc: 0.751309\n",
      "[78]\tvalid_0's auc: 0.751257\n",
      "[79]\tvalid_0's auc: 0.751332\n",
      "[80]\tvalid_0's auc: 0.751264\n",
      "[81]\tvalid_0's auc: 0.751449\n",
      "[82]\tvalid_0's auc: 0.751437\n",
      "[83]\tvalid_0's auc: 0.751549\n",
      "[84]\tvalid_0's auc: 0.751682\n",
      "[85]\tvalid_0's auc: 0.751689\n",
      "[86]\tvalid_0's auc: 0.751776\n",
      "[87]\tvalid_0's auc: 0.751936\n",
      "[88]\tvalid_0's auc: 0.75202\n",
      "[89]\tvalid_0's auc: 0.752012\n",
      "[90]\tvalid_0's auc: 0.751869\n",
      "[91]\tvalid_0's auc: 0.751816\n",
      "[92]\tvalid_0's auc: 0.751971\n",
      "[93]\tvalid_0's auc: 0.751903\n",
      "[94]\tvalid_0's auc: 0.751878\n",
      "[95]\tvalid_0's auc: 0.751802\n",
      "[96]\tvalid_0's auc: 0.751714\n",
      "[97]\tvalid_0's auc: 0.751604\n",
      "[98]\tvalid_0's auc: 0.751594\n",
      "[99]\tvalid_0's auc: 0.751621\n",
      "[100]\tvalid_0's auc: 0.751657\n"
     ]
    }
   ],
   "source": [
    "# Liczba rund (iteracji)\n",
    "num_round = 100\n",
    "\n",
    "# Trenowanie modelu z użyciem danych testowych i wczesnego zatrzymywania\n",
    "bst = lgb.train(params,\n",
    "                train_data,\n",
    "                num_boost_round=num_round,\n",
    "                valid_sets=[test_data])  # Dane testowe"
   ]
  },
  {
   "cell_type": "markdown",
   "id": "02c84d71-3a07-413f-b434-3f06bac0732b",
   "metadata": {},
   "source": [
    "### Predykcja i ocena modelu"
   ]
  },
  {
   "cell_type": "code",
   "execution_count": 15,
   "id": "36f2d68b-2878-4193-a949-de42981b9db7",
   "metadata": {},
   "outputs": [],
   "source": [
    "# Predykcja\n",
    "y_pred1 = bst.predict(X_test, num_iteration=bst.best_iteration)"
   ]
  },
  {
   "cell_type": "code",
   "execution_count": 16,
   "id": "621b1505-554a-459c-adf2-2eb68b8fae94",
   "metadata": {},
   "outputs": [
    {
     "name": "stdout",
     "output_type": "stream",
     "text": [
      "AUC: 0.7516572919940366\n"
     ]
    }
   ],
   "source": [
    "from sklearn.metrics import roc_auc_score\n",
    "\n",
    "# Obliczenie AUC\n",
    "auc1 = roc_auc_score(y_test, y_pred1)\n",
    "print(f'AUC: {auc1}')"
   ]
  },
  {
   "cell_type": "code",
   "execution_count": 17,
   "id": "e06952f9-deba-4c31-bc62-b99ef9e0d5c7",
   "metadata": {},
   "outputs": [
    {
     "name": "stdout",
     "output_type": "stream",
     "text": [
      "Gini: 0.5033145839880733\n"
     ]
    }
   ],
   "source": [
    "# Obliczenie Giniego\n",
    "gini1 = 2 * auc1 - 1\n",
    "print(f'Gini: {gini1}')"
   ]
  },
  {
   "cell_type": "code",
   "execution_count": 18,
   "id": "268245ee-261c-4cdf-bdfb-e3bfcf1d175a",
   "metadata": {},
   "outputs": [
    {
     "name": "stdout",
     "output_type": "stream",
     "text": [
      "Max KS statistic: 0.3740272656025326\n"
     ]
    }
   ],
   "source": [
    "# Obliczenie wskaźnika KS-Kołmogorowa-Smirnowa\n",
    "\n",
    "# Przygotowanie DataFrame do obliczenia KS\n",
    "df_ks = pd.DataFrame(data={\n",
    "    'prob': y_pred1,\n",
    "    'target': y_test\n",
    "})\n",
    "\n",
    "# Sortowanie wartości prawdopodobieństwa\n",
    "df_ks = df_ks.sort_values(by='prob', ascending=True)\n",
    "\n",
    "# Obliczanie dystrybucji skumulowanych\n",
    "df_ks['cum_good'] = np.cumsum(df_ks['target'] == 0) / sum(df_ks['target'] == 0)\n",
    "df_ks['cum_bad'] = np.cumsum(df_ks['target'] == 1) / sum(df_ks['target'] == 1)\n",
    "\n",
    "# Obliczenie statystyki KS\n",
    "df_ks['ks'] = np.abs(df_ks['cum_good'] - df_ks['cum_bad'])\n",
    "ks_statistic = df_ks['ks'].max()\n",
    "\n",
    "print(f'Max KS statistic: {ks_statistic}')"
   ]
  },
  {
   "cell_type": "code",
   "execution_count": 23,
   "id": "031452c0-651b-4d11-9dcb-939ba64c5ecc",
   "metadata": {},
   "outputs": [
    {
     "data": {
      "image/png": "[encoded data removed]",
      "text/plain": [
       "<Figure size 640x480 with 1 Axes>"
      ]
     },
     "metadata": {},
     "output_type": "display_data"
    }
   ],
   "source": [
    "from sklearn.metrics import roc_curve, auc\n",
    "\n",
    "# Przygotowanie danych do obliczenia ROC\n",
    "fpr1, tpr1, thresholds1 = roc_curve(y_test, y_pred1)  # False Positive Rate, True Positive Rate, progi\n",
    "roc_auc1 = auc(fpr1, tpr1)  # Obliczenie AUC (Area Under the Curve)\n",
    "\n",
    "# Rysowanie krzywej ROC\n",
    "plt.figure()\n",
    "plt.plot(fpr1, tpr1, color='darkorange', lw=2, label=f'ROC curve (area = {roc_auc1:.2f})')\n",
    "plt.plot([0, 1], [0, 1], color='navy', lw=2, linestyle='--', label='Random model')\n",
    "plt.xlim([0.0, 1.0])\n",
    "plt.ylim([0.0, 1.05])\n",
    "plt.xlabel('False Positive Rate')\n",
    "plt.ylabel('True Positive Rate')\n",
    "plt.title('Receiver Operating Characteristic')\n",
    "plt.legend(loc=\"lower right\")\n",
    "plt.show()"
   ]
  },
  {
   "cell_type": "markdown",
   "id": "619f625d-7a17-44e4-b2cf-e5d960757087",
   "metadata": {},
   "source": [
    "<div class=\"alert alert-block alert-warning\"> <b>Wnioski:</b> Stworzony model został opracowany dla wszystkich 19 zmiennych objaśniających, które to zostały wybrane jako najlepsze pod względem mocy predykcyjnej i interpretowalności. Analogicznie do procesu modelowania w Statistice, aby można było je porównywać między sobą.\n",
    "<br>\n",
    "<br> Otrzymany model jest dość dobry i jestem zadowolony z wyników. Został oceniony pod względem miar AUC, Gini oraz testu Kołmogorowa-Smirnowa (KS). Tak przedstawiają się wyniki statystyk:\n",
    "<br> * AUC = 0,7516\n",
    "<br> * Gini = 0,5033\n",
    "<br> * KS = 0,3740\n",
    "\n",
    "Wszystkie powyższe wskaźniki jasno przedstawiają, że model jest dość dobry, żeby wdrożyć go na produkcję."
   ]
  },
  {
   "cell_type": "markdown",
   "id": "cad0ed7d-59a8-4138-86a2-303276f425ea",
   "metadata": {},
   "source": [
    "## 2. Model XGBoost"
   ]
  },
  {
   "cell_type": "code",
   "execution_count": 24,
   "id": "3f063d07-34cf-4458-b3c7-4e8aead5f89c",
   "metadata": {},
   "outputs": [],
   "source": [
    "# pip install xgboost"
   ]
  },
  {
   "cell_type": "markdown",
   "id": "c21a1051-f04f-433f-a5c5-86ddf22b2eb3",
   "metadata": {},
   "source": [
    "### Przygotowanie danych"
   ]
  },
  {
   "cell_type": "markdown",
   "id": "b3760f7b-9a09-4418-a859-4f6f660a8c92",
   "metadata": {},
   "source": [
    "Podobnie jak w przypadku LightGBM, przygotowujemy dane dzieląc je na cechy i etykiety"
   ]
  },
  {
   "cell_type": "code",
   "execution_count": 25,
   "id": "10abcded-774c-4c34-823e-85da97a7297b",
   "metadata": {},
   "outputs": [],
   "source": [
    "import xgboost as xgb\n",
    "\n",
    "# Tworzenie zbiorów DMatrix, które są optymalne dla XGBoost\n",
    "dtrain = xgb.DMatrix(X_train, label=y_train, enable_categorical=True)\n",
    "dtest = xgb.DMatrix(X_test, label=y_test, enable_categorical=True)"
   ]
  },
  {
   "cell_type": "markdown",
   "id": "81ddea99-19cf-468d-bbca-bd5e52724f15",
   "metadata": {},
   "source": [
    "### Definiowanie parametrów modelu i trenowanie"
   ]
  },
  {
   "cell_type": "code",
   "execution_count": 26,
   "id": "4ef62a98-e38a-4855-9f46-209ddb4a8d37",
   "metadata": {},
   "outputs": [],
   "source": [
    "params2 = {\n",
    "    'objective': 'binary:logistic',  # cel dla klasyfikacji binarnej\n",
    "    'max_depth': 6,  # maksymalna głębokość drzew\n",
    "    'learning_rate': 0.1,  # szybkość uczenia\n",
    "    'eval_metric': 'auc',  # metryka do oceny modelu\n",
    "    'min_child_weight': 1,  # minimalna suma wagi potrzebna w węźle\n",
    "    'subsample': 0.8,  # procent próbek używanych na drzewo\n",
    "    'colsample_bytree': 0.8,  # procent cech używanych na drzewo\n",
    "    'seed': 42  # ziarno dla reprodukowalności\n",
    "}"
   ]
  },
  {
   "cell_type": "code",
   "execution_count": 27,
   "id": "0d06fbd4-e9aa-4c89-bf75-f9440992ca46",
   "metadata": {},
   "outputs": [
    {
     "name": "stdout",
     "output_type": "stream",
     "text": [
      "[0]\teval-auc:0.71397\ttrain-auc:0.72316\n",
      "[1]\teval-auc:0.71925\ttrain-auc:0.73238\n",
      "[2]\teval-auc:0.72138\ttrain-auc:0.73877\n",
      "[3]\teval-auc:0.72146\ttrain-auc:0.74175\n",
      "[4]\teval-auc:0.72297\ttrain-auc:0.74338\n",
      "[5]\teval-auc:0.72287\ttrain-auc:0.74548\n",
      "[6]\teval-auc:0.72720\ttrain-auc:0.74989\n",
      "[7]\teval-auc:0.72956\ttrain-auc:0.75249\n",
      "[8]\teval-auc:0.73101\ttrain-auc:0.75447\n",
      "[9]\teval-auc:0.73180\ttrain-auc:0.75608\n",
      "[10]\teval-auc:0.73283\ttrain-auc:0.75743\n",
      "[11]\teval-auc:0.73385\ttrain-auc:0.75949\n",
      "[12]\teval-auc:0.73450\ttrain-auc:0.76105\n",
      "[13]\teval-auc:0.73612\ttrain-auc:0.76236\n",
      "[14]\teval-auc:0.73674\ttrain-auc:0.76378\n",
      "[15]\teval-auc:0.73723\ttrain-auc:0.76491\n",
      "[16]\teval-auc:0.73752\ttrain-auc:0.76599\n",
      "[17]\teval-auc:0.73812\ttrain-auc:0.76765\n",
      "[18]\teval-auc:0.73850\ttrain-auc:0.76864\n",
      "[19]\teval-auc:0.73910\ttrain-auc:0.77006\n",
      "[20]\teval-auc:0.73992\ttrain-auc:0.77097\n",
      "[21]\teval-auc:0.74029\ttrain-auc:0.77191\n",
      "[22]\teval-auc:0.74070\ttrain-auc:0.77283\n",
      "[23]\teval-auc:0.74164\ttrain-auc:0.77383\n",
      "[24]\teval-auc:0.74211\ttrain-auc:0.77515\n",
      "[25]\teval-auc:0.74224\ttrain-auc:0.77611\n",
      "[26]\teval-auc:0.74265\ttrain-auc:0.77750\n",
      "[27]\teval-auc:0.74339\ttrain-auc:0.77857\n",
      "[28]\teval-auc:0.74338\ttrain-auc:0.77916\n",
      "[29]\teval-auc:0.74381\ttrain-auc:0.78054\n",
      "[30]\teval-auc:0.74457\ttrain-auc:0.78147\n",
      "[31]\teval-auc:0.74495\ttrain-auc:0.78255\n",
      "[32]\teval-auc:0.74511\ttrain-auc:0.78321\n",
      "[33]\teval-auc:0.74532\ttrain-auc:0.78422\n",
      "[34]\teval-auc:0.74574\ttrain-auc:0.78523\n",
      "[35]\teval-auc:0.74596\ttrain-auc:0.78632\n",
      "[36]\teval-auc:0.74610\ttrain-auc:0.78720\n",
      "[37]\teval-auc:0.74608\ttrain-auc:0.78771\n",
      "[38]\teval-auc:0.74661\ttrain-auc:0.78850\n",
      "[39]\teval-auc:0.74690\ttrain-auc:0.78952\n",
      "[40]\teval-auc:0.74697\ttrain-auc:0.79050\n",
      "[41]\teval-auc:0.74684\ttrain-auc:0.79126\n",
      "[42]\teval-auc:0.74713\ttrain-auc:0.79216\n",
      "[43]\teval-auc:0.74727\ttrain-auc:0.79287\n",
      "[44]\teval-auc:0.74731\ttrain-auc:0.79368\n",
      "[45]\teval-auc:0.74735\ttrain-auc:0.79431\n",
      "[46]\teval-auc:0.74744\ttrain-auc:0.79485\n",
      "[47]\teval-auc:0.74756\ttrain-auc:0.79523\n",
      "[48]\teval-auc:0.74754\ttrain-auc:0.79589\n",
      "[49]\teval-auc:0.74763\ttrain-auc:0.79636\n",
      "[50]\teval-auc:0.74785\ttrain-auc:0.79721\n",
      "[51]\teval-auc:0.74782\ttrain-auc:0.79787\n",
      "[52]\teval-auc:0.74801\ttrain-auc:0.79875\n",
      "[53]\teval-auc:0.74826\ttrain-auc:0.79942\n",
      "[54]\teval-auc:0.74812\ttrain-auc:0.80001\n",
      "[55]\teval-auc:0.74821\ttrain-auc:0.80035\n",
      "[56]\teval-auc:0.74821\ttrain-auc:0.80114\n",
      "[57]\teval-auc:0.74834\ttrain-auc:0.80176\n",
      "[58]\teval-auc:0.74833\ttrain-auc:0.80225\n",
      "[59]\teval-auc:0.74848\ttrain-auc:0.80301\n",
      "[60]\teval-auc:0.74850\ttrain-auc:0.80349\n",
      "[61]\teval-auc:0.74849\ttrain-auc:0.80399\n",
      "[62]\teval-auc:0.74837\ttrain-auc:0.80462\n",
      "[63]\teval-auc:0.74841\ttrain-auc:0.80502\n",
      "[64]\teval-auc:0.74838\ttrain-auc:0.80519\n",
      "[65]\teval-auc:0.74832\ttrain-auc:0.80584\n",
      "[66]\teval-auc:0.74826\ttrain-auc:0.80654\n",
      "[67]\teval-auc:0.74836\ttrain-auc:0.80711\n",
      "[68]\teval-auc:0.74840\ttrain-auc:0.80755\n",
      "[69]\teval-auc:0.74848\ttrain-auc:0.80826\n",
      "[70]\teval-auc:0.74841\ttrain-auc:0.80875\n",
      "[71]\teval-auc:0.74843\ttrain-auc:0.80899\n",
      "[72]\teval-auc:0.74842\ttrain-auc:0.80961\n",
      "[73]\teval-auc:0.74845\ttrain-auc:0.80986\n",
      "[74]\teval-auc:0.74843\ttrain-auc:0.81040\n",
      "[75]\teval-auc:0.74859\ttrain-auc:0.81108\n",
      "[76]\teval-auc:0.74856\ttrain-auc:0.81161\n",
      "[77]\teval-auc:0.74865\ttrain-auc:0.81197\n",
      "[78]\teval-auc:0.74859\ttrain-auc:0.81250\n",
      "[79]\teval-auc:0.74860\ttrain-auc:0.81309\n",
      "[80]\teval-auc:0.74864\ttrain-auc:0.81356\n",
      "[81]\teval-auc:0.74878\ttrain-auc:0.81387\n",
      "[82]\teval-auc:0.74878\ttrain-auc:0.81413\n",
      "[83]\teval-auc:0.74881\ttrain-auc:0.81468\n",
      "[84]\teval-auc:0.74873\ttrain-auc:0.81480\n",
      "[85]\teval-auc:0.74859\ttrain-auc:0.81540\n",
      "[86]\teval-auc:0.74874\ttrain-auc:0.81590\n",
      "[87]\teval-auc:0.74866\ttrain-auc:0.81648\n",
      "[88]\teval-auc:0.74886\ttrain-auc:0.81707\n",
      "[89]\teval-auc:0.74883\ttrain-auc:0.81727\n",
      "[90]\teval-auc:0.74878\ttrain-auc:0.81766\n",
      "[91]\teval-auc:0.74872\ttrain-auc:0.81791\n",
      "[92]\teval-auc:0.74876\ttrain-auc:0.81806\n",
      "[93]\teval-auc:0.74894\ttrain-auc:0.81856\n",
      "[94]\teval-auc:0.74891\ttrain-auc:0.81908\n",
      "[95]\teval-auc:0.74901\ttrain-auc:0.81964\n",
      "[96]\teval-auc:0.74900\ttrain-auc:0.81991\n",
      "[97]\teval-auc:0.74884\ttrain-auc:0.82044\n",
      "[98]\teval-auc:0.74888\ttrain-auc:0.82089\n",
      "[99]\teval-auc:0.74897\ttrain-auc:0.82112\n"
     ]
    }
   ],
   "source": [
    "num_rounds = 100  # liczba rund (iteracji) boostingu\n",
    "evallist = [(dtest, 'eval'), (dtrain, 'train')]  # lista zestawów do oceny\n",
    "\n",
    "bst2 = xgb.train(params2, dtrain, num_rounds, evallist, early_stopping_rounds=10, verbose_eval=True)"
   ]
  },
  {
   "cell_type": "markdown",
   "id": "483e1fe4-16cf-44e6-8c98-4b6836d4dc4b",
   "metadata": {},
   "source": [
    "### Predykcja i ocena modelu"
   ]
  },
  {
   "cell_type": "code",
   "execution_count": 28,
   "id": "ec595a5c-c640-40c7-b0fb-e45536ed1bc7",
   "metadata": {},
   "outputs": [],
   "source": [
    "# Predykcja\n",
    "y_pred2 = bst2.predict(dtest)"
   ]
  },
  {
   "cell_type": "code",
   "execution_count": 29,
   "id": "e5f2ef8a-36fe-42c5-80b6-666a3a69ae41",
   "metadata": {},
   "outputs": [
    {
     "name": "stdout",
     "output_type": "stream",
     "text": [
      "AUC: 0.7489677930808236\n"
     ]
    }
   ],
   "source": [
    "# Obliczenie AUC\n",
    "\n",
    "auc2 = roc_auc_score(y_test, y_pred2)\n",
    "print(f'AUC: {auc2}')"
   ]
  },
  {
   "cell_type": "code",
   "execution_count": 30,
   "id": "12eb1f4f-4bcb-4330-8f28-7ed3fa26cc8d",
   "metadata": {},
   "outputs": [
    {
     "name": "stdout",
     "output_type": "stream",
     "text": [
      "Gini: 0.49793558616164724\n"
     ]
    }
   ],
   "source": [
    "# Obliczenie Giniego\n",
    "gini2 = 2 * auc2 - 1\n",
    "print(f'Gini: {gini2}')"
   ]
  },
  {
   "cell_type": "code",
   "execution_count": 31,
   "id": "3c192981-696c-4eeb-9035-05ce878cdb17",
   "metadata": {},
   "outputs": [
    {
     "name": "stdout",
     "output_type": "stream",
     "text": [
      "Max KS statistic: 0.36959954567332554\n"
     ]
    }
   ],
   "source": [
    "# Obliczenie wskaźnika KS-Kołmogorowa-Smirnowa\n",
    "\n",
    "# Przygotowanie DataFrame do obliczenia KS\n",
    "df_ks = pd.DataFrame(data={\n",
    "    'prob': y_pred2,\n",
    "    'target': y_test\n",
    "})\n",
    "\n",
    "# Sortowanie wartości prawdopodobieństwa\n",
    "df_ks = df_ks.sort_values(by='prob', ascending=True)\n",
    "\n",
    "# Obliczanie dystrybucji skumulowanych\n",
    "df_ks['cum_good'] = np.cumsum(df_ks['target'] == 0) / sum(df_ks['target'] == 0)\n",
    "df_ks['cum_bad'] = np.cumsum(df_ks['target'] == 1) / sum(df_ks['target'] == 1)\n",
    "\n",
    "# Obliczenie statystyki KS\n",
    "df_ks['ks'] = np.abs(df_ks['cum_good'] - df_ks['cum_bad'])\n",
    "ks_statistic = df_ks['ks'].max()\n",
    "\n",
    "print(f'Max KS statistic: {ks_statistic}')"
   ]
  },
  {
   "cell_type": "markdown",
   "id": "0e41aee0-3cb7-4369-8ec2-ab8330d3d61c",
   "metadata": {},
   "source": [
    "<div class=\"alert alert-block alert-warning\"> <b>Wnioski:</b> Stworzony model podobnie jak wcześniej LGBM został opracowany dla wszystkich 19 zmiennych objaśniających, które to zostały wybrane jako najlepsze pod względem mocy predykcyjnej i interpretowalności.\n",
    "<br>\n",
    "<br> Otrzymany model ponownie jest dysyć dobry, natomiast jest nieznacznie gorszy niż LightGBM. Tak przedstawiają się wyniki statystyk:\n",
    "<br> * AUC = 0,7490\n",
    "<br> * Gini = 0,4979\n",
    "<br> * KS = 0,3696"
   ]
  },
  {
   "cell_type": "markdown",
   "id": "b68a175e-8812-4ff9-9d9c-2f5eef774bf5",
   "metadata": {},
   "source": [
    "# Wykres Gini dla obu modeli"
   ]
  },
  {
   "cell_type": "code",
   "execution_count": 36,
   "id": "1e66ae30-3fcf-4c42-9af3-4944e00e6063",
   "metadata": {},
   "outputs": [
    {
     "data": {
      "image/png": "[encoded data removed]",
      "text/plain": [
       "<Figure size 640x480 with 1 Axes>"
      ]
     },
     "metadata": {},
     "output_type": "display_data"
    }
   ],
   "source": [
    "from sklearn.metrics import roc_curve, auc\n",
    "\n",
    "# Przygotowanie danych do obliczenia ROC\n",
    "fpr1, tpr1, thresholds1 = roc_curve(y_test, y_pred1)  # False Positive Rate, True Positive Rate, progi\n",
    "fpr2, tpr2, thresholds2 = roc_curve(y_test, y_pred2)  # False Positive Rate, True Positive Rate, progi\n",
    "roc_auc1 = auc(fpr1, tpr1)  # Obliczenie AUC (Area Under the Curve)\n",
    "roc_auc2 = auc(fpr2, tpr2)  # Obliczenie AUC (Area Under the Curve)\n",
    "\n",
    "# Rysowanie krzywej ROC\n",
    "plt.figure()\n",
    "plt.plot(fpr1, tpr1, color='darkorange', lw=2, label=f'ROC curve LightGBM (area = {roc_auc1:.4f})')\n",
    "plt.plot(fpr2, tpr2, color='green', lw=2, label=f'ROC curve XGBoost (area = {roc_auc2:.4f})')\n",
    "plt.plot([0, 1], [0, 1], color='navy', lw=2, linestyle='--', label='Random model')\n",
    "plt.xlim([0.0, 1.0])\n",
    "plt.ylim([0.0, 1.05])\n",
    "plt.xlabel('False Positive Rate')\n",
    "plt.ylabel('True Positive Rate')\n",
    "plt.title('Receiver Operating Characteristic')\n",
    "plt.legend(loc=\"lower right\")\n",
    "plt.show()"
   ]
  }
 ],
 "metadata": {
  "kernelspec": {
   "display_name": "Python 3 (ipykernel)",
   "language": "python",
   "name": "python3"
  },
  "language_info": {
   "codemirror_mode": {
    "name": "ipython",
    "version": 3
   },
   "file_extension": ".py",
   "mimetype": "text/x-python",
   "name": "python",
   "nbconvert_exporter": "python",
   "pygments_lexer": "ipython3",
   "version": "3.10.14"
  }
 },
 "nbformat": 4,
 "nbformat_minor": 5
}
